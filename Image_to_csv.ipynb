{
 "cells": [
  {
   "cell_type": "code",
   "execution_count": 16,
   "metadata": {},
   "outputs": [
    {
     "name": "stdout",
     "output_type": "stream",
     "text": [
      "covid\n",
      "normal\n"
     ]
    }
   ],
   "source": [
    "import os\n",
    "import pandas as pd\n",
    "\n",
    "path = \"C:/Users/asus/Desktop/7th Semester/Progress_Major_Project/SVM_MODEL/X-Ray_2000\"\n",
    "os.chdir(path)\n",
    "lists = os.listdir(path)\n",
    "labels = []\n",
    "label=[]\n",
    "file_lst = []\n",
    "\n",
    "for folder in lists:\n",
    "    print(folder)\n",
    "    files = os.listdir(path +\"/\"+folder)\n",
    "    for file in files:\n",
    "      path_file = path + \"/\" + folder + \"/\" + file\n",
    "      file_lst.append(path_file)\n",
    "      labels.append(folder)\n",
    "      \n",
    "        \n",
    "\n",
    "dictP_n = {\"path\": file_lst,\n",
    "           \"label_name\": labels,\n",
    "          \"label\": labels}   \n",
    "\n",
    "data  = pd.DataFrame(dictP_n, index = None)\n",
    "data = data.sample(frac=1)\n",
    "data['label'] = data['label'].replace({\"class1\": 0, \"class2\": 1 })\n",
    "data.to_csv(\"C:/Users/asus/Desktop/7th Semester/Progress_Major_Project/SVM_MODEL//covid_metadata.csv\", index =None)"
   ]
  }
 ],
 "metadata": {
  "kernelspec": {
   "display_name": "Python 3",
   "language": "python",
   "name": "python3"
  },
  "language_info": {
   "codemirror_mode": {
    "name": "ipython",
    "version": 3
   },
   "file_extension": ".py",
   "mimetype": "text/x-python",
   "name": "python",
   "nbconvert_exporter": "python",
   "pygments_lexer": "ipython3",
   "version": "3.8.5"
  }
 },
 "nbformat": 4,
 "nbformat_minor": 4
}
